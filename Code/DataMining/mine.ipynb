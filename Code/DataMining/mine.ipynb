{
 "cells": [
  {
   "cell_type": "code",
   "execution_count": 10,
   "metadata": {},
   "outputs": [
    {
     "name": "stdout",
     "output_type": "stream",
     "text": [
      "Defaulting to user installation because normal site-packages is not writeable\n",
      "Requirement already satisfied: pandas in /usr/local/lib/python3.9/site-packages (1.4.3)\n",
      "Requirement already satisfied: python-dateutil>=2.8.1 in /usr/local/lib/python3.9/site-packages (from pandas) (2.8.2)\n",
      "Requirement already satisfied: pytz>=2020.1 in /usr/local/lib/python3.9/site-packages (from pandas) (2022.1)\n",
      "Requirement already satisfied: numpy>=1.18.5 in /usr/local/lib/python3.9/site-packages (from pandas) (1.23.1)\n",
      "Requirement already satisfied: six>=1.5 in /usr/local/lib/python3.9/site-packages (from python-dateutil>=2.8.1->pandas) (1.16.0)\n",
      "Note: you may need to restart the kernel to use updated packages.\n",
      "Defaulting to user installation because normal site-packages is not writeable\n",
      "Requirement already satisfied: mlxtend in /home/saaliyan/.local/lib/python3.9/site-packages (0.23.0)\n",
      "Requirement already satisfied: scipy>=1.2.1 in /usr/local/lib/python3.9/site-packages (from mlxtend) (1.8.1)\n",
      "Requirement already satisfied: numpy>=1.16.2 in /usr/local/lib/python3.9/site-packages (from mlxtend) (1.23.1)\n",
      "Requirement already satisfied: pandas>=0.24.2 in /usr/local/lib/python3.9/site-packages (from mlxtend) (1.4.3)\n",
      "Requirement already satisfied: scikit-learn>=1.0.2 in /home/saaliyan/.local/lib/python3.9/site-packages (from mlxtend) (1.3.2)\n",
      "Requirement already satisfied: matplotlib>=3.0.0 in /usr/local/lib/python3.9/site-packages (from mlxtend) (3.5.2)\n",
      "Requirement already satisfied: joblib>=0.13.2 in /usr/local/lib/python3.9/site-packages (from mlxtend) (1.3.2)\n",
      "Requirement already satisfied: cycler>=0.10 in /usr/local/lib/python3.9/site-packages (from matplotlib>=3.0.0->mlxtend) (0.11.0)\n",
      "Requirement already satisfied: fonttools>=4.22.0 in /usr/local/lib/python3.9/site-packages (from matplotlib>=3.0.0->mlxtend) (4.34.4)\n",
      "Requirement already satisfied: kiwisolver>=1.0.1 in /usr/local/lib/python3.9/site-packages (from matplotlib>=3.0.0->mlxtend) (1.4.3)\n",
      "Requirement already satisfied: packaging>=20.0 in /usr/local/lib/python3.9/site-packages (from matplotlib>=3.0.0->mlxtend) (21.3)\n",
      "Requirement already satisfied: pillow>=6.2.0 in /usr/local/lib/python3.9/site-packages (from matplotlib>=3.0.0->mlxtend) (9.2.0)\n",
      "Requirement already satisfied: pyparsing>=2.2.1 in /usr/local/lib/python3.9/site-packages (from matplotlib>=3.0.0->mlxtend) (3.0.9)\n",
      "Requirement already satisfied: python-dateutil>=2.7 in /usr/local/lib/python3.9/site-packages (from matplotlib>=3.0.0->mlxtend) (2.8.2)\n",
      "Requirement already satisfied: pytz>=2020.1 in /usr/local/lib/python3.9/site-packages (from pandas>=0.24.2->mlxtend) (2022.1)\n",
      "Requirement already satisfied: threadpoolctl>=2.0.0 in /usr/local/lib/python3.9/site-packages (from scikit-learn>=1.0.2->mlxtend) (3.2.0)\n",
      "Requirement already satisfied: six>=1.5 in /usr/local/lib/python3.9/site-packages (from python-dateutil>=2.7->matplotlib>=3.0.0->mlxtend) (1.16.0)\n",
      "Note: you may need to restart the kernel to use updated packages.\n",
      "Defaulting to user installation because normal site-packages is not writeable\n",
      "Requirement already satisfied: pymysql in /home/saaliyan/.local/lib/python3.9/site-packages (1.1.0)\n",
      "Note: you may need to restart the kernel to use updated packages.\n"
     ]
    }
   ],
   "source": [
    "%pip install pandas\n",
    "%pip install mlxtend\n",
    "%pip install pymysql"
   ]
  },
  {
   "cell_type": "code",
   "execution_count": 6,
   "metadata": {},
   "outputs": [
    {
     "name": "stderr",
     "output_type": "stream",
     "text": [
      "/usr/local/lib/python3.9/site-packages/pandas/io/sql.py:761: UserWarning: pandas only support SQLAlchemy connectable(engine/connection) ordatabase string URI or sqlite3 DBAPI2 connectionother DBAPI2 objects are not tested, please consider using SQLAlchemy\n",
      "  warnings.warn(\n"
     ]
    },
    {
     "name": "stdout",
     "output_type": "stream",
     "text": [
      "                    antecedents               consequents   support  \\\n",
      "0                        (2355)                       (1)  0.061103   \n",
      "1                        (3114)                       (1)  0.090909   \n",
      "2                          (16)                     (296)  0.073025   \n",
      "3                          (16)                     (593)  0.064083   \n",
      "4                          (47)                     (296)  0.166915   \n",
      "...                         ...                       ...       ...   \n",
      "38668   (7153, 1210, 260, 1198)  (5952, 4993, 2571, 1196)  0.053651   \n",
      "38669  (7153, 2571, 1196, 1198)   (5952, 4993, 1210, 260)  0.053651   \n",
      "38670  (7153, 1210, 2571, 1196)   (5952, 4993, 260, 1198)  0.053651   \n",
      "38671  (7153, 1210, 2571, 1198)   (5952, 4993, 1196, 260)  0.053651   \n",
      "38672  (7153, 1210, 1196, 1198)   (5952, 4993, 2571, 260)  0.053651   \n",
      "\n",
      "       confidence  \n",
      "0        0.759259  \n",
      "1        0.772152  \n",
      "2        0.803279  \n",
      "3        0.704918  \n",
      "4        0.767123  \n",
      "...           ...  \n",
      "38668    0.705882  \n",
      "38669    0.837209  \n",
      "38670    0.720000  \n",
      "38671    0.923077  \n",
      "38672    0.720000  \n",
      "\n",
      "[38673 rows x 4 columns]\n"
     ]
    }
   ],
   "source": [
    "# How likely is a user to like a movie based on their previous ratings of other movies?\n",
    "\n",
    "import pandas as pd\n",
    "from mlxtend.frequent_patterns import apriori, association_rules\n",
    "import pymysql\n",
    "\n",
    "hostname = 'riku.shoshin.uwaterloo.ca'\n",
    "username = 'username'\n",
    "password = 'password'\n",
    "database = 'db356_team31'\n",
    "\n",
    "# Connect to MySQL database\n",
    "connection = pymysql.connect(\n",
    "          host=hostname, user=username, password=password, database=database\n",
    "      )\n",
    "\n",
    "\n",
    "\n",
    "\n",
    "# Load the data from the MySQL database into a DataFrame\n",
    "sql_query = \"SELECT userId, movie_id, rating FROM Ratings\"\n",
    "data = pd.read_sql(sql_query, connection)\n",
    "connection.close()\n",
    "\n",
    "\n",
    "# Convert ratings to binary values (liked or not liked)\n",
    "data[\"liked\"] = data[\"rating\"] >= 4.0\n",
    "\n",
    "# Create a binary user-item matrix using pivot_table\n",
    "basket = data.pivot_table(\n",
    "    index=\"userId\", columns=\"movie_id\", values=\"liked\", aggfunc=\"max\", fill_value=False\n",
    ")\n",
    "\n",
    "# Apply Apriori algorithm\n",
    "frequent_itemsets = apriori(basket, min_support=0.05, use_colnames=True)\n",
    "\n",
    "# Generate association rules\n",
    "rules = association_rules(frequent_itemsets, metric=\"confidence\", min_threshold=0.7)\n",
    "\n",
    "\n",
    "print(rules[[\"antecedents\", \"consequents\", \"support\", \"confidence\"]])"
   ]
  }
 ],
 "metadata": {
  "kernelspec": {
   "display_name": "Python 3",
   "language": "python",
   "name": "python3"
  },
  "language_info": {
   "codemirror_mode": {
    "name": "ipython",
    "version": 3
   },
   "file_extension": ".py",
   "mimetype": "text/x-python",
   "name": "python",
   "nbconvert_exporter": "python",
   "pygments_lexer": "ipython3",
   "version": "3.9.13"
  }
 },
 "nbformat": 4,
 "nbformat_minor": 2
}
